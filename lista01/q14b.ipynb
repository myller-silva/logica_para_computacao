{
 "cells": [
  {
   "cell_type": "code",
   "execution_count": 1,
   "metadata": {},
   "outputs": [],
   "source": [
    "from formula import *\n",
    "from functions import *\n",
    "from lista01.q14a import is_term"
   ]
  },
  {
   "cell_type": "code",
   "execution_count": null,
   "metadata": {},
   "outputs": [],
   "source": [
    "#is_disjunctive_normal_form\n",
    "def if_dnf(form):\n",
    "  if(isinstance(form, Atom)):\n",
    "    return False\n",
    "\n",
    "  if(isinstance(form, Or)):\n",
    "    if(is_term(form.left) or isinstance(form.left, Or)):\n",
    "      return is_dnf(form.left)\n",
    "    if(is_term(form.rigth) or isinstance(form.rigth, Or)):\n",
    "      return is_dnf(form.rigth)\n",
    "    return True\n",
    "\n",
    "  if(isinstance(form, Not)):\n",
    "    if(not is_term(form)):\n",
    "      return False\n",
    "\n",
    "  return False \n",
    "#????\n"
   ]
  }
 ],
 "metadata": {
  "kernelspec": {
   "display_name": "Python 3.10.4 64-bit",
   "language": "python",
   "name": "python3"
  },
  "language_info": {
   "codemirror_mode": {
    "name": "ipython",
    "version": 3
   },
   "file_extension": ".py",
   "mimetype": "text/x-python",
   "name": "python",
   "nbconvert_exporter": "python",
   "pygments_lexer": "ipython3",
   "version": "3.10.4"
  },
  "orig_nbformat": 4,
  "vscode": {
   "interpreter": {
    "hash": "9c77333bec7264131399470f32a03f5ab2ca473375e9c77688ea8b5395f206ec"
   }
  }
 },
 "nbformat": 4,
 "nbformat_minor": 2
}
